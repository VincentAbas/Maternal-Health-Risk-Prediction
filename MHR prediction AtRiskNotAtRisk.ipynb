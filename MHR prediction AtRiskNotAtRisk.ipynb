{
 "cells": [
  {
   "cell_type": "markdown",
   "id": "08145a22",
   "metadata": {},
   "source": [
    "# Initialization"
   ]
  },
  {
   "cell_type": "code",
   "execution_count": 1,
   "id": "a18900b9",
   "metadata": {},
   "outputs": [],
   "source": [
    "import numpy as np\n",
    "import pandas as pd\n",
    "import matplotlib.pyplot as plt\n",
    "import seaborn as sns\n",
    "\n",
    "from sklearn.model_selection import train_test_split as split, GridSearchCV\n",
    "from sklearn.metrics import accuracy_score, confusion_matrix, ConfusionMatrixDisplay, roc_auc_score, roc_curve, auc, precision_score, recall_score, f1_score, classification_report"
   ]
  },
  {
   "cell_type": "code",
   "execution_count": 2,
   "id": "14a09957",
   "metadata": {
    "scrolled": true
   },
   "outputs": [
    {
     "data": {
      "text/html": [
       "<div>\n",
       "<style scoped>\n",
       "    .dataframe tbody tr th:only-of-type {\n",
       "        vertical-align: middle;\n",
       "    }\n",
       "\n",
       "    .dataframe tbody tr th {\n",
       "        vertical-align: top;\n",
       "    }\n",
       "\n",
       "    .dataframe thead th {\n",
       "        text-align: right;\n",
       "    }\n",
       "</style>\n",
       "<table border=\"1\" class=\"dataframe\">\n",
       "  <thead>\n",
       "    <tr style=\"text-align: right;\">\n",
       "      <th></th>\n",
       "      <th>Age</th>\n",
       "      <th>SystolicBP</th>\n",
       "      <th>DiastolicBP</th>\n",
       "      <th>BS</th>\n",
       "      <th>BodyTemp</th>\n",
       "      <th>HeartRate</th>\n",
       "      <th>Risk</th>\n",
       "    </tr>\n",
       "  </thead>\n",
       "  <tbody>\n",
       "    <tr>\n",
       "      <th>0</th>\n",
       "      <td>25</td>\n",
       "      <td>130</td>\n",
       "      <td>80</td>\n",
       "      <td>15.0</td>\n",
       "      <td>98.0</td>\n",
       "      <td>86</td>\n",
       "      <td>1</td>\n",
       "    </tr>\n",
       "    <tr>\n",
       "      <th>1</th>\n",
       "      <td>35</td>\n",
       "      <td>140</td>\n",
       "      <td>90</td>\n",
       "      <td>13.0</td>\n",
       "      <td>98.0</td>\n",
       "      <td>70</td>\n",
       "      <td>1</td>\n",
       "    </tr>\n",
       "    <tr>\n",
       "      <th>2</th>\n",
       "      <td>29</td>\n",
       "      <td>90</td>\n",
       "      <td>70</td>\n",
       "      <td>8.0</td>\n",
       "      <td>100.0</td>\n",
       "      <td>80</td>\n",
       "      <td>1</td>\n",
       "    </tr>\n",
       "    <tr>\n",
       "      <th>3</th>\n",
       "      <td>30</td>\n",
       "      <td>140</td>\n",
       "      <td>85</td>\n",
       "      <td>7.0</td>\n",
       "      <td>98.0</td>\n",
       "      <td>70</td>\n",
       "      <td>1</td>\n",
       "    </tr>\n",
       "    <tr>\n",
       "      <th>4</th>\n",
       "      <td>35</td>\n",
       "      <td>120</td>\n",
       "      <td>60</td>\n",
       "      <td>6.1</td>\n",
       "      <td>98.0</td>\n",
       "      <td>76</td>\n",
       "      <td>0</td>\n",
       "    </tr>\n",
       "    <tr>\n",
       "      <th>...</th>\n",
       "      <td>...</td>\n",
       "      <td>...</td>\n",
       "      <td>...</td>\n",
       "      <td>...</td>\n",
       "      <td>...</td>\n",
       "      <td>...</td>\n",
       "      <td>...</td>\n",
       "    </tr>\n",
       "    <tr>\n",
       "      <th>890</th>\n",
       "      <td>22</td>\n",
       "      <td>120</td>\n",
       "      <td>60</td>\n",
       "      <td>15.0</td>\n",
       "      <td>98.0</td>\n",
       "      <td>80</td>\n",
       "      <td>1</td>\n",
       "    </tr>\n",
       "    <tr>\n",
       "      <th>891</th>\n",
       "      <td>55</td>\n",
       "      <td>120</td>\n",
       "      <td>90</td>\n",
       "      <td>18.0</td>\n",
       "      <td>98.0</td>\n",
       "      <td>60</td>\n",
       "      <td>1</td>\n",
       "    </tr>\n",
       "    <tr>\n",
       "      <th>892</th>\n",
       "      <td>35</td>\n",
       "      <td>85</td>\n",
       "      <td>60</td>\n",
       "      <td>19.0</td>\n",
       "      <td>98.0</td>\n",
       "      <td>86</td>\n",
       "      <td>1</td>\n",
       "    </tr>\n",
       "    <tr>\n",
       "      <th>893</th>\n",
       "      <td>43</td>\n",
       "      <td>120</td>\n",
       "      <td>90</td>\n",
       "      <td>18.0</td>\n",
       "      <td>98.0</td>\n",
       "      <td>70</td>\n",
       "      <td>1</td>\n",
       "    </tr>\n",
       "    <tr>\n",
       "      <th>894</th>\n",
       "      <td>32</td>\n",
       "      <td>120</td>\n",
       "      <td>65</td>\n",
       "      <td>6.0</td>\n",
       "      <td>101.0</td>\n",
       "      <td>76</td>\n",
       "      <td>1</td>\n",
       "    </tr>\n",
       "  </tbody>\n",
       "</table>\n",
       "<p>895 rows × 7 columns</p>\n",
       "</div>"
      ],
      "text/plain": [
       "     Age  SystolicBP  DiastolicBP    BS  BodyTemp  HeartRate  Risk\n",
       "0     25         130           80  15.0      98.0         86     1\n",
       "1     35         140           90  13.0      98.0         70     1\n",
       "2     29          90           70   8.0     100.0         80     1\n",
       "3     30         140           85   7.0      98.0         70     1\n",
       "4     35         120           60   6.1      98.0         76     0\n",
       "..   ...         ...          ...   ...       ...        ...   ...\n",
       "890   22         120           60  15.0      98.0         80     1\n",
       "891   55         120           90  18.0      98.0         60     1\n",
       "892   35          85           60  19.0      98.0         86     1\n",
       "893   43         120           90  18.0      98.0         70     1\n",
       "894   32         120           65   6.0     101.0         76     1\n",
       "\n",
       "[895 rows x 7 columns]"
      ]
     },
     "execution_count": 2,
     "metadata": {},
     "output_type": "execute_result"
    }
   ],
   "source": [
    "data_proc = pd.read_csv('MHR_cleaned.csv')\n",
    "data_proc"
   ]
  },
  {
   "cell_type": "code",
   "execution_count": 7,
   "id": "aad52f1d",
   "metadata": {
    "scrolled": true
   },
   "outputs": [
    {
     "data": {
      "text/plain": [
       "'data_proc = data_proc[~((data_proc[\"BodyTemp\"] > 100) & (data_proc[\"Risk\"] == 0))]\\ndata_proc = data_proc[~((data_proc[\"BS\"] > 10) & (data_proc[\"Risk\"] == 0) | (data_proc[\"BS\"] > 10) & (data_proc[\"Risk\"] == 1))]\\ndata_proc = data_proc[~((data_proc[\"Age\"] > 50) & (data_proc[\"Risk\"] == 0) | (data_proc[\"Age\"] > 50) & (data_proc[\"Risk\"] == 1))]\\ndata_proc = data_proc[~(data_proc[\"HeartRate\"] < 55)]\\n'"
      ]
     },
     "execution_count": 7,
     "metadata": {},
     "output_type": "execute_result"
    }
   ],
   "source": [
    "'''data_proc = data_proc[~((data_proc[\"BodyTemp\"] > 100) & (data_proc[\"Risk\"] == 0))]\n",
    "data_proc = data_proc[~((data_proc[\"BS\"] > 10) & (data_proc[\"Risk\"] == 0) | (data_proc[\"BS\"] > 10) & (data_proc[\"Risk\"] == 1))]\n",
    "data_proc = data_proc[~((data_proc[\"Age\"] > 50) & (data_proc[\"Risk\"] == 0) | (data_proc[\"Age\"] > 50) & (data_proc[\"Risk\"] == 1))]\n",
    "data_proc = data_proc[~(data_proc[\"HeartRate\"] < 55)]\n",
    "'''"
   ]
  },
  {
   "cell_type": "code",
   "execution_count": 8,
   "id": "02fb1071",
   "metadata": {
    "scrolled": false
   },
   "outputs": [
    {
     "data": {
      "text/html": [
       "<div>\n",
       "<style scoped>\n",
       "    .dataframe tbody tr th:only-of-type {\n",
       "        vertical-align: middle;\n",
       "    }\n",
       "\n",
       "    .dataframe tbody tr th {\n",
       "        vertical-align: top;\n",
       "    }\n",
       "\n",
       "    .dataframe thead th {\n",
       "        text-align: right;\n",
       "    }\n",
       "</style>\n",
       "<table border=\"1\" class=\"dataframe\">\n",
       "  <thead>\n",
       "    <tr style=\"text-align: right;\">\n",
       "      <th></th>\n",
       "      <th>Age</th>\n",
       "      <th>SystolicBP</th>\n",
       "      <th>DiastolicBP</th>\n",
       "      <th>BS</th>\n",
       "      <th>BodyTemp</th>\n",
       "      <th>HeartRate</th>\n",
       "      <th>Risk</th>\n",
       "    </tr>\n",
       "  </thead>\n",
       "  <tbody>\n",
       "    <tr>\n",
       "      <th>0</th>\n",
       "      <td>25</td>\n",
       "      <td>130</td>\n",
       "      <td>80</td>\n",
       "      <td>15.0</td>\n",
       "      <td>98.0</td>\n",
       "      <td>86</td>\n",
       "      <td>1</td>\n",
       "    </tr>\n",
       "    <tr>\n",
       "      <th>1</th>\n",
       "      <td>35</td>\n",
       "      <td>140</td>\n",
       "      <td>90</td>\n",
       "      <td>13.0</td>\n",
       "      <td>98.0</td>\n",
       "      <td>70</td>\n",
       "      <td>1</td>\n",
       "    </tr>\n",
       "    <tr>\n",
       "      <th>2</th>\n",
       "      <td>29</td>\n",
       "      <td>90</td>\n",
       "      <td>70</td>\n",
       "      <td>8.0</td>\n",
       "      <td>100.0</td>\n",
       "      <td>80</td>\n",
       "      <td>1</td>\n",
       "    </tr>\n",
       "    <tr>\n",
       "      <th>3</th>\n",
       "      <td>30</td>\n",
       "      <td>140</td>\n",
       "      <td>85</td>\n",
       "      <td>7.0</td>\n",
       "      <td>98.0</td>\n",
       "      <td>70</td>\n",
       "      <td>1</td>\n",
       "    </tr>\n",
       "    <tr>\n",
       "      <th>4</th>\n",
       "      <td>35</td>\n",
       "      <td>120</td>\n",
       "      <td>60</td>\n",
       "      <td>6.1</td>\n",
       "      <td>98.0</td>\n",
       "      <td>76</td>\n",
       "      <td>0</td>\n",
       "    </tr>\n",
       "    <tr>\n",
       "      <th>...</th>\n",
       "      <td>...</td>\n",
       "      <td>...</td>\n",
       "      <td>...</td>\n",
       "      <td>...</td>\n",
       "      <td>...</td>\n",
       "      <td>...</td>\n",
       "      <td>...</td>\n",
       "    </tr>\n",
       "    <tr>\n",
       "      <th>889</th>\n",
       "      <td>48</td>\n",
       "      <td>120</td>\n",
       "      <td>80</td>\n",
       "      <td>11.0</td>\n",
       "      <td>98.0</td>\n",
       "      <td>88</td>\n",
       "      <td>1</td>\n",
       "    </tr>\n",
       "    <tr>\n",
       "      <th>890</th>\n",
       "      <td>22</td>\n",
       "      <td>120</td>\n",
       "      <td>60</td>\n",
       "      <td>15.0</td>\n",
       "      <td>98.0</td>\n",
       "      <td>80</td>\n",
       "      <td>1</td>\n",
       "    </tr>\n",
       "    <tr>\n",
       "      <th>891</th>\n",
       "      <td>55</td>\n",
       "      <td>120</td>\n",
       "      <td>90</td>\n",
       "      <td>18.0</td>\n",
       "      <td>98.0</td>\n",
       "      <td>60</td>\n",
       "      <td>1</td>\n",
       "    </tr>\n",
       "    <tr>\n",
       "      <th>893</th>\n",
       "      <td>43</td>\n",
       "      <td>120</td>\n",
       "      <td>90</td>\n",
       "      <td>18.0</td>\n",
       "      <td>98.0</td>\n",
       "      <td>70</td>\n",
       "      <td>1</td>\n",
       "    </tr>\n",
       "    <tr>\n",
       "      <th>894</th>\n",
       "      <td>32</td>\n",
       "      <td>120</td>\n",
       "      <td>65</td>\n",
       "      <td>6.0</td>\n",
       "      <td>101.0</td>\n",
       "      <td>76</td>\n",
       "      <td>1</td>\n",
       "    </tr>\n",
       "  </tbody>\n",
       "</table>\n",
       "<p>862 rows × 7 columns</p>\n",
       "</div>"
      ],
      "text/plain": [
       "     Age  SystolicBP  DiastolicBP    BS  BodyTemp  HeartRate  Risk\n",
       "0     25         130           80  15.0      98.0         86     1\n",
       "1     35         140           90  13.0      98.0         70     1\n",
       "2     29          90           70   8.0     100.0         80     1\n",
       "3     30         140           85   7.0      98.0         70     1\n",
       "4     35         120           60   6.1      98.0         76     0\n",
       "..   ...         ...          ...   ...       ...        ...   ...\n",
       "889   48         120           80  11.0      98.0         88     1\n",
       "890   22         120           60  15.0      98.0         80     1\n",
       "891   55         120           90  18.0      98.0         60     1\n",
       "893   43         120           90  18.0      98.0         70     1\n",
       "894   32         120           65   6.0     101.0         76     1\n",
       "\n",
       "[862 rows x 7 columns]"
      ]
     },
     "execution_count": 8,
     "metadata": {},
     "output_type": "execute_result"
    }
   ],
   "source": [
    "from scipy import stats\n",
    "\n",
    "z_scores = np.abs(stats.zscore(data_proc))\n",
    "\n",
    "threshold = 3\n",
    "\n",
    "# Find rows where all z-scores are within the threshold of -3 to 3\n",
    "keep_rows = (z_scores < threshold).all(axis=1) & (z_scores > -threshold).all(axis=1)\n",
    "\n",
    "# Filter the data_proc array to keep only the rows that meet the threshold criteria\n",
    "data_proc = data_proc[keep_rows]\n",
    "data_proc"
   ]
  },
  {
   "cell_type": "markdown",
   "id": "84a5460c",
   "metadata": {},
   "source": [
    "# Modelling & Evaluation"
   ]
  },
  {
   "cell_type": "code",
   "execution_count": 9,
   "id": "982c6020",
   "metadata": {
    "scrolled": true
   },
   "outputs": [
    {
     "name": "stdout",
     "output_type": "stream",
     "text": [
      "Processes data has 689 train data and 173 test data\n"
     ]
    }
   ],
   "source": [
    "# Processed Dataset\n",
    "X_proc = data_proc.drop(\"Risk\", axis=1)\n",
    "y_proc = data_proc.Risk\n",
    "x_train_proc, x_test_proc, y_train_proc, y_test_proc = split(X_proc, y_proc, train_size=0.8, test_size=0.2, random_state=1)\n",
    "\n",
    "\n",
    "print(f\"Processes data has {x_train_proc.shape[0]} train data and {x_test_proc.shape[0]} test data\")"
   ]
  },
  {
   "cell_type": "markdown",
   "id": "10b30bd3",
   "metadata": {},
   "source": [
    "## Base XGBoost"
   ]
  },
  {
   "cell_type": "code",
   "execution_count": 10,
   "id": "d244297b",
   "metadata": {},
   "outputs": [],
   "source": [
    "import xgboost as xgb"
   ]
  },
  {
   "cell_type": "markdown",
   "id": "e2798b4d",
   "metadata": {},
   "source": [
    "## Modified XGBoost"
   ]
  },
  {
   "cell_type": "code",
   "execution_count": 11,
   "id": "23e5c5c6",
   "metadata": {
    "scrolled": true
   },
   "outputs": [
    {
     "name": "stderr",
     "output_type": "stream",
     "text": [
      "C:\\Users\\admin\\anaconda3\\Lib\\site-packages\\xgboost\\sklearn.py:885: UserWarning: `eval_metric` in `fit` method is deprecated for better compatibility with scikit-learn, use `eval_metric` in constructor or`set_params` instead.\n",
      "  warnings.warn(\n"
     ]
    },
    {
     "name": "stdout",
     "output_type": "stream",
     "text": [
      "Processed Dataset Accuracy: 0.930635838150289\n",
      "              precision    recall  f1-score   support\n",
      "\n",
      "           0       0.94      0.88      0.91        66\n",
      "           1       0.93      0.96      0.94       107\n",
      "\n",
      "    accuracy                           0.93       173\n",
      "   macro avg       0.93      0.92      0.93       173\n",
      "weighted avg       0.93      0.93      0.93       173\n",
      "\n"
     ]
    }
   ],
   "source": [
    "# Using processed dataset\n",
    "xgb_classifier4 = xgb.XGBClassifier(\n",
    "    learning_rate=0.1,\n",
    "    max_depth=5,\n",
    "    gamma=0.1,\n",
    "    n_estimators=1000,\n",
    "    subsample=0.7,\n",
    "    colsample_bytree=0.9,\n",
    "    reg_alpha=0.1,\n",
    "    reg_lambda=0.5,\n",
    "    random_state=42)\n",
    "\n",
    "xgb_classifier4.fit(x_train_proc, y_train_proc,)\n",
    "\n",
    "eval_set = [(x_train_proc, y_train_proc), (x_test_proc, y_test_proc)]\n",
    "xgb_classifier4.fit(x_train_proc, y_train_proc, eval_metric=[\"auc\"], eval_set=eval_set, verbose=0)\n",
    "y_pred_proc = xgb_classifier4.predict(x_test_proc)\n",
    "y_prob = xgb_classifier4.predict_proba(x_test_proc)[:, 1]\n",
    "\n",
    "print(f\"Processed Dataset Accuracy: {accuracy_score(y_test_proc, y_pred_proc)}\")\n",
    "print(classification_report(y_test_proc, y_pred_proc))"
   ]
  },
  {
   "cell_type": "code",
   "execution_count": 12,
   "id": "ff55a205",
   "metadata": {
    "scrolled": false
   },
   "outputs": [
    {
     "data": {
      "image/png": "[encoded data removed]",
      "text/plain": [
       "<Figure size 800x550 with 1 Axes>"
      ]
     },
     "metadata": {},
     "output_type": "display_data"
    },
    {
     "data": {
      "text/plain": [
       "<Axes: title={'center': 'ROC Curves for XGBClassifier'}, xlabel='False Positive Rate', ylabel='True Positive Rate'>"
      ]
     },
     "execution_count": 12,
     "metadata": {},
     "output_type": "execute_result"
    }
   ],
   "source": [
    "from yellowbrick.classifier import ROCAUC\n",
    "visualizer = ROCAUC(xgb_classifier4, classes=[\"0\", \"1\"], support=True)\n",
    "\n",
    "visualizer.fit(x_train_proc, y_train_proc)        # Fit the training data to the visualizer\n",
    "visualizer.score(x_test_proc, y_test_proc)        # Evaluate the model on the test data\n",
    "visualizer.show()"
   ]
  },
  {
   "cell_type": "code",
   "execution_count": null,
   "id": "c2d220c1",
   "metadata": {},
   "outputs": [
    {
     "name": "stdout",
     "output_type": "stream",
     "text": [
      "Enter values for features:\n"
     ]
    }
   ],
   "source": [
    "# Define a function to take user input and make predictions\n",
    "def predict_with_user_input(model):\n",
    "    print(\"Enter values for features:\")\n",
    "    age = float(input(\"Age: \"))\n",
    "    systolic_bp = float(input(\"Systolic Blood Pressure: \"))\n",
    "    diastolic_bp = float(input(\"Diastolic Blood Pressure: \"))\n",
    "    blood_sugar = float(input(\"Blood Sugar: \"))\n",
    "    body_temp = float(input(\"Body Temperature: \"))\n",
    "    heart_rate = float(input(\"Heart Rate: \"))\n",
    "\n",
    "    new_data = pd.DataFrame({\n",
    "        'Age': [age],\n",
    "        'SystolicBP': [systolic_bp],\n",
    "        'DiastolicBP': [diastolic_bp],\n",
    "        'BS': [blood_sugar],\n",
    "        'BodyTemp': [body_temp],\n",
    "        'HeartRate': [heart_rate]\n",
    "    })\n",
    "\n",
    "    # Use the trained model to predict the outcome\n",
    "    prediction = model.predict(new_data)\n",
    "\n",
    "    if prediction[0] == 1:\n",
    "        print(\"You are at risk.\")\n",
    "    else:\n",
    "        print(\"You are not at risk.\")\n",
    "\n",
    "\n",
    "# Call the function with your trained model\n",
    "predict_with_user_input(xgb_classifier4)"
   ]
  },
  {
   "cell_type": "code",
   "execution_count": null,
   "id": "5ffdb8f5",
   "metadata": {},
   "outputs": [],
   "source": []
  }
 ],
 "metadata": {
  "kernelspec": {
   "display_name": "Python 3 (ipykernel)",
   "language": "python",
   "name": "python3"
  },
  "language_info": {
   "codemirror_mode": {
    "name": "ipython",
    "version": 3
   },
   "file_extension": ".py",
   "mimetype": "text/x-python",
   "name": "python",
   "nbconvert_exporter": "python",
   "pygments_lexer": "ipython3",
   "version": "3.11.4"
  }
 },
 "nbformat": 4,
 "nbformat_minor": 5
}
